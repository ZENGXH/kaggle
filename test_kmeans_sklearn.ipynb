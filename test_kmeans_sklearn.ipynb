{
 "cells": [
  {
   "cell_type": "code",
   "execution_count": 1,
   "metadata": {
    "collapsed": false,
    "scrolled": true
   },
   "outputs": [
    {
     "name": "stderr",
     "output_type": "stream",
     "text": [
      "2015-11-21 15:42:39,765 - my_io - INFO - logger first setup ./biological_response/log.txt\n",
      "INFO:my_io:logger first setup ./biological_response/log.txt\n",
      "2015-11-21 15:42:39,779 - my_io - INFO - start\n",
      "INFO:my_io:start\n",
      "2015-11-21 15:42:44,625 - my_io - INFO - check type of array: <type 'numpy.ndarray'>\n",
      "INFO:my_io:check type of array: <type 'numpy.ndarray'>\n",
      "2015-11-21 15:42:44,625 - my_io - INFO - 2d array\n",
      "INFO:my_io:2d array\n",
      "2015-11-21 15:42:44,648 - my_io - DEBUG - array not float, converting..\n",
      "DEBUG:my_io:array not float, converting..\n",
      "2015-11-21 15:42:51,890 - my_io - INFO - toFloat done\n",
      "INFO:my_io:toFloat done\n",
      "2015-11-21 15:42:55,265 - my_io - INFO - check type of array: <type 'numpy.ndarray'>\n",
      "INFO:my_io:check type of array: <type 'numpy.ndarray'>\n",
      "2015-11-21 15:42:55,265 - my_io - INFO - 2d array\n",
      "INFO:my_io:2d array\n",
      "2015-11-21 15:42:55,286 - my_io - DEBUG - array not float, converting..\n",
      "DEBUG:my_io:array not float, converting..\n",
      "2015-11-21 15:43:01,170 - my_io - INFO - toFloat done\n",
      "INFO:my_io:toFloat done\n",
      "2015-11-21 15:43:01,190 - my_io - INFO - ['size of training data (#training_datapoints, #features/dimension + 1): ', (3751, 1777)]\n",
      "INFO:my_io:['size of training data (#training_datapoints, #features/dimension + 1): ', (3751, 1777)]\n",
      "2015-11-21 15:43:01,210 - my_io - INFO - ['size of test data (N,1)', (2501, 1776)]\n",
      "INFO:my_io:['size of test data (N,1)', (2501, 1776)]\n",
      "2015-11-21 15:43:01,239 - my_io - INFO - return y as array, X as array [N,D], trainData, testData\n",
      "INFO:my_io:return y as array, X as array [N,D], trainData, testData\n",
      "2015-11-21 15:43:01,270 - classification_baseline - INFO - split data into train and test {'portion': 0.2, 'seed': 1}\n",
      "INFO:classification_baseline:split data into train and test {'portion': 0.2, 'seed': 1}\n",
      "2015-11-21 15:43:01,279 - classification_baseline - DEBUG - X is not a nparray, converted\n",
      "DEBUG:classification_baseline:X is not a nparray, converted\n",
      "2015-11-21 15:43:01,450 - classification_baseline - INFO - split done check split\n",
      "INFO:classification_baseline:split done check split\n",
      "2015-11-21 15:43:01,454 - classification_baseline - INFO - size of X_test is 750 and X_train 750, #fts 1776\n",
      "INFO:classification_baseline:size of X_test is 750 and X_train 750, #fts 1776\n"
     ]
    }
   ],
   "source": [
    "# svm_bench.py\n",
    "import logging\n",
    "import my_io\n",
    "import classification_baseline\n",
    "from sklearn import svm\n",
    "import numpy as np\n",
    "from sklearn.metrics import classification\n",
    "\n",
    "\n",
    "my_io.setUp('./biological_response/')\n",
    "\n",
    "my_io.startLog(__name__)\n",
    "logger = logging.getLogger(__name__)\n",
    "\n",
    "y,X,trainData,testData = my_io.readCsv()\n",
    "portion = 0.2\n",
    "seed = 1\n",
    "X_test, X_train, y_train, y_test = classification_baseline.splitData(X,y,portion,seed)\n",
    "\n"
   ]
  },
  {
   "cell_type": "code",
   "execution_count": 5,
   "metadata": {
    "collapsed": false
   },
   "outputs": [
    {
     "data": {
      "text/plain": [
       "(750,)"
      ]
     },
     "execution_count": 5,
     "metadata": {},
     "output_type": "execute_result"
    }
   ],
   "source": [
    "np.shape(y_test)"
   ]
  },
  {
   "cell_type": "code",
   "execution_count": 6,
   "metadata": {
    "collapsed": false
   },
   "outputs": [
    {
     "name": "stderr",
     "output_type": "stream",
     "text": [
      "2015-11-21 15:46:12,443 - __main__ - INFO - init svm classifier\n",
      "INFO:__main__:init svm classifier\n",
      "2015-11-21 15:46:12,450 - __main__ - INFO - fitting svc\n",
      "INFO:__main__:fitting svc\n",
      "2015-11-21 15:51:28,072 - __main__ - INFO - start predict\n",
      "INFO:__main__:start predict\n",
      "2015-11-21 15:51:43,372 - my_io - INFO - check type of array: <type 'numpy.ndarray'>\n",
      "INFO:my_io:check type of array: <type 'numpy.ndarray'>\n",
      "2015-11-21 15:51:43,372 - my_io - WARNING - array dimension more than 1use the first col\n",
      "WARNING:my_io:array dimension more than 1use the first col\n",
      "2015-11-21 15:51:43,398 - my_io - INFO - maximum of probabiliy 0\n",
      "INFO:my_io:maximum of probabiliy 0\n",
      "2015-11-21 15:51:43,411 - my_io - INFO - minimum of probabiliy 0\n",
      "INFO:my_io:minimum of probabiliy 0\n",
      "2015-11-21 15:51:43,430 - my_io - INFO - toZeroOne done\n",
      "INFO:my_io:toZeroOne done\n",
      "2015-11-21 15:51:43,459 - __main__ - INFO - error 0\n",
      "INFO:__main__:error 0\n"
     ]
    }
   ],
   "source": [
    "logger.info('init svm classifier')\n",
    "svc = svm.SVC(probability = True)\n",
    "logger.info('fitting svc')\n",
    "svc.fit(X_train, y_train)\n",
    "logger.info('start predict')\n",
    "predict_probs = svc.predict_proba(X_test)\n",
    "\n",
    "predict = my_io.toZeroOne(predict_probs[:,1])\n",
    "\n",
    "# error = classification.zero_one_loss(y_test, predict)\n",
    "loss = np.subtract(predict,y_test)\n",
    "from numpy import linalg as LA\n",
    "error = LA.norm(loss)\n",
    "logger.info('zero one loss %d',error)"
   ]
  },
  {
   "cell_type": "code",
   "execution_count": 21,
   "metadata": {
    "collapsed": false
   },
   "outputs": [
    {
     "name": "stderr",
     "output_type": "stream",
     "text": [
      "2015-11-21 16:00:53,331 - my_io - INFO - check type of array: <type 'numpy.ndarray'>\n",
      "INFO:my_io:check type of array: <type 'numpy.ndarray'>\n",
      "2015-11-21 16:00:53,335 - my_io - INFO - 1d array\n",
      "INFO:my_io:1d array\n",
      "2015-11-21 16:00:53,342 - my_io - INFO - maximum of probabiliy 0\n",
      "INFO:my_io:maximum of probabiliy 0\n",
      "2015-11-21 16:00:53,351 - my_io - INFO - minimum of probabiliy 0\n",
      "INFO:my_io:minimum of probabiliy 0\n",
      "2015-11-21 16:00:53,355 - my_io - INFO - toZeroOne done\n",
      "INFO:my_io:toZeroOne done\n"
     ]
    }
   ],
   "source": [
    "a = np.array([0,1])\n",
    "b = np.array([1,1])\n",
    "predict2 = my_io.toZeroOne(predict_probs[:,1])\n",
    "error= classification.zero_one_loss(y_test,predict2)"
   ]
  },
  {
   "cell_type": "code",
   "execution_count": 15,
   "metadata": {
    "collapsed": false
   },
   "outputs": [
    {
     "data": {
      "text/plain": [
       "1.5"
      ]
     },
     "execution_count": 15,
     "metadata": {},
     "output_type": "execute_result"
    }
   ],
   "source": [
    "float(3)/2"
   ]
  },
  {
   "cell_type": "code",
   "execution_count": 23,
   "metadata": {
    "collapsed": false
   },
   "outputs": [
    {
     "name": "stderr",
     "output_type": "stream",
     "text": [
      "2015-11-21 16:01:08,315 - __main__ - INFO - zero one loss 0.250667\n",
      "INFO:__main__:zero one loss 0.250667\n"
     ]
    }
   ],
   "source": [
    "logger.info('zero one loss %f',error)"
   ]
  },
  {
   "cell_type": "code",
   "execution_count": 46,
   "metadata": {
    "collapsed": true
   },
   "outputs": [],
   "source": []
  },
  {
   "cell_type": "code",
   "execution_count": 55,
   "metadata": {
    "collapsed": false
   },
   "outputs": [
    {
     "name": "stdout",
     "output_type": "stream",
     "text": [
      "[ 10.   46.   35.    3.5]\n",
      "[  8.   44.   31.    1.5]\n",
      "[[ 18.   2.  66.   2.]\n",
      " [  2.  90.   4.   5.]]\n",
      "8.0\n",
      "1.0\n",
      "-8.0\n",
      "-1.0\n",
      "-44.0\n",
      "-1.0\n",
      "44.0\n",
      "1.0\n",
      "31.0\n",
      "1.0\n",
      "-31.0\n",
      "-1.0\n",
      "-1.5\n",
      "-1.0\n",
      "1.5\n",
      "1.0\n"
     ]
    }
   ],
   "source": [
    "originx = np.array([[18,2,66,2],[2,90,4,5]])\n",
    "\"\"\"NOEMALIZE Summary of this function goes here\n",
    "    normalize data such that they are spread aroung 0\n",
    "    noticed that the dimension should be N*D \n",
    "    ie, normalize each row\n",
    "    Detailed explanation goes here\n",
    "\"\"\"\n",
    "meanX = np.mean(originx, 0)\n",
    "stdX = np.std(originx, 0)\n",
    "\n",
    "normalizedX = np.array(originx,dtype='f8')\n",
    "\n",
    "print meanX \n",
    "print stdX \n",
    "print normalizedX\n",
    "for i in range(len(meanX)):\n",
    "    for j in range(len(originx)):\n",
    "        normalizedX[j,i] = np.subtract(normalizedX[j,i], meanX[i])\n",
    "        print normalizedX[j,i]\n",
    "        normalizedX[j,i] = np.divide(normalizedX[j,i], stdX[i])\n",
    "        print normalizedX[j,i]\n"
   ]
  },
  {
   "cell_type": "code",
   "execution_count": 56,
   "metadata": {
    "collapsed": false
   },
   "outputs": [
    {
     "data": {
      "text/plain": [
       "1.5"
      ]
     },
     "execution_count": 56,
     "metadata": {},
     "output_type": "execute_result"
    }
   ],
   "source": [
    "np.divide(3.0,2)"
   ]
  },
  {
   "cell_type": "code",
   "execution_count": 44,
   "metadata": {
    "collapsed": false
   },
   "outputs": [
    {
     "data": {
      "text/plain": [
       "array([[0, 0, 0, 0],\n",
       "       [0, 0, 0, 0]])"
      ]
     },
     "execution_count": 44,
     "metadata": {},
     "output_type": "execute_result"
    }
   ],
   "source": [
    "normalizedX"
   ]
  },
  {
   "cell_type": "code",
   "execution_count": 57,
   "metadata": {
    "collapsed": true
   },
   "outputs": [],
   "source": [
    "from sklearn.cluster import KMeans\n",
    "import matplotlib.pyplot as plt\n",
    "import numpy as np\n",
    "from sklearn.decomposition import PCA\n"
   ]
  },
  {
   "cell_type": "code",
   "execution_count": 61,
   "metadata": {
    "collapsed": false
   },
   "outputs": [
    {
     "name": "stderr",
     "output_type": "stream",
     "text": [
      "2015-11-22 16:01:00,226 - __main__ - INFO - import data, in shape (272, 2)\n",
      "INFO:__main__:import data, in shape (272, 2)\n"
     ]
    }
   ],
   "source": [
    "# test kmeans.py\n",
    "import logging\n",
    "import kmeans\n",
    "import numpy as np\n",
    "import my_io\n",
    "\n",
    "# initialize\n",
    "my_io.startLog(__name__)\n",
    "logger = logging.getLogger(__name__)\n",
    "\n",
    "\n",
    "# for small size of data, use genfromtxt which return array\n",
    "# for large size, use csv.reader return str array\n",
    "X = np.genfromtxt('./faithful.txt')\n",
    "logger.info('import data, in shape %s',str(np.shape(X)))\n",
    "\n",
    "# for k means, initilize k\n",
    "k = 4"
   ]
  },
  {
   "cell_type": "code",
   "execution_count": 73,
   "metadata": {
    "collapsed": false
   },
   "outputs": [
    {
     "name": "stdout",
     "output_type": "stream",
     "text": [
      "[  3.48778309  70.89705882]\n",
      "[  1.13927121  13.56996002]\n",
      "[[  3.6    79.   ]\n",
      " [  1.8    54.   ]\n",
      " [  3.333  74.   ]\n",
      " [  2.283  62.   ]\n",
      " [  4.533  85.   ]\n",
      " [  2.883  55.   ]\n",
      " [  4.7    88.   ]\n",
      " [  3.6    85.   ]\n",
      " [  1.95   51.   ]\n",
      " [  4.35   85.   ]\n",
      " [  1.833  54.   ]\n",
      " [  3.917  84.   ]\n",
      " [  4.2    78.   ]\n",
      " [  1.75   47.   ]\n",
      " [  4.7    83.   ]\n",
      " [  2.167  52.   ]\n",
      " [  1.75   62.   ]\n",
      " [  4.8    84.   ]\n",
      " [  1.6    52.   ]\n",
      " [  4.25   79.   ]\n",
      " [  1.8    51.   ]\n",
      " [  1.75   47.   ]\n",
      " [  3.45   78.   ]\n",
      " [  3.067  69.   ]\n",
      " [  4.533  74.   ]\n",
      " [  3.6    83.   ]\n",
      " [  1.967  55.   ]\n",
      " [  4.083  76.   ]\n",
      " [  3.85   78.   ]\n",
      " [  4.433  79.   ]\n",
      " [  4.3    73.   ]\n",
      " [  4.467  77.   ]\n",
      " [  3.367  66.   ]\n",
      " [  4.033  80.   ]\n",
      " [  3.833  74.   ]\n",
      " [  2.017  52.   ]\n",
      " [  1.867  48.   ]\n",
      " [  4.833  80.   ]\n",
      " [  1.833  59.   ]\n",
      " [  4.783  90.   ]\n",
      " [  4.35   80.   ]\n",
      " [  1.883  58.   ]\n",
      " [  4.567  84.   ]\n",
      " [  1.75   58.   ]\n",
      " [  4.533  73.   ]\n",
      " [  3.317  83.   ]\n",
      " [  3.833  64.   ]\n",
      " [  2.1    53.   ]\n",
      " [  4.633  82.   ]\n",
      " [  2.     59.   ]\n",
      " [  4.8    75.   ]\n",
      " [  4.716  90.   ]\n",
      " [  1.833  54.   ]\n",
      " [  4.833  80.   ]\n",
      " [  1.733  54.   ]\n",
      " [  4.883  83.   ]\n",
      " [  3.717  71.   ]\n",
      " [  1.667  64.   ]\n",
      " [  4.567  77.   ]\n",
      " [  4.317  81.   ]\n",
      " [  2.233  59.   ]\n",
      " [  4.5    84.   ]\n",
      " [  1.75   48.   ]\n",
      " [  4.8    82.   ]\n",
      " [  1.817  60.   ]\n",
      " [  4.4    92.   ]\n",
      " [  4.167  78.   ]\n",
      " [  4.7    78.   ]\n",
      " [  2.067  65.   ]\n",
      " [  4.7    73.   ]\n",
      " [  4.033  82.   ]\n",
      " [  1.967  56.   ]\n",
      " [  4.5    79.   ]\n",
      " [  4.     71.   ]\n",
      " [  1.983  62.   ]\n",
      " [  5.067  76.   ]\n",
      " [  2.017  60.   ]\n",
      " [  4.567  78.   ]\n",
      " [  3.883  76.   ]\n",
      " [  3.6    83.   ]\n",
      " [  4.133  75.   ]\n",
      " [  4.333  82.   ]\n",
      " [  4.1    70.   ]\n",
      " [  2.633  65.   ]\n",
      " [  4.067  73.   ]\n",
      " [  4.933  88.   ]\n",
      " [  3.95   76.   ]\n",
      " [  4.517  80.   ]\n",
      " [  2.167  48.   ]\n",
      " [  4.     86.   ]\n",
      " [  2.2    60.   ]\n",
      " [  4.333  90.   ]\n",
      " [  1.867  50.   ]\n",
      " [  4.817  78.   ]\n",
      " [  1.833  63.   ]\n",
      " [  4.3    72.   ]\n",
      " [  4.667  84.   ]\n",
      " [  3.75   75.   ]\n",
      " [  1.867  51.   ]\n",
      " [  4.9    82.   ]\n",
      " [  2.483  62.   ]\n",
      " [  4.367  88.   ]\n",
      " [  2.1    49.   ]\n",
      " [  4.5    83.   ]\n",
      " [  4.05   81.   ]\n",
      " [  1.867  47.   ]\n",
      " [  4.7    84.   ]\n",
      " [  1.783  52.   ]\n",
      " [  4.85   86.   ]\n",
      " [  3.683  81.   ]\n",
      " [  4.733  75.   ]\n",
      " [  2.3    59.   ]\n",
      " [  4.9    89.   ]\n",
      " [  4.417  79.   ]\n",
      " [  1.7    59.   ]\n",
      " [  4.633  81.   ]\n",
      " [  2.317  50.   ]\n",
      " [  4.6    85.   ]\n",
      " [  1.817  59.   ]\n",
      " [  4.417  87.   ]\n",
      " [  2.617  53.   ]\n",
      " [  4.067  69.   ]\n",
      " [  4.25   77.   ]\n",
      " [  1.967  56.   ]\n",
      " [  4.6    88.   ]\n",
      " [  3.767  81.   ]\n",
      " [  1.917  45.   ]\n",
      " [  4.5    82.   ]\n",
      " [  2.267  55.   ]\n",
      " [  4.65   90.   ]\n",
      " [  1.867  45.   ]\n",
      " [  4.167  83.   ]\n",
      " [  2.8    56.   ]\n",
      " [  4.333  89.   ]\n",
      " [  1.833  46.   ]\n",
      " [  4.383  82.   ]\n",
      " [  1.883  51.   ]\n",
      " [  4.933  86.   ]\n",
      " [  2.033  53.   ]\n",
      " [  3.733  79.   ]\n",
      " [  4.233  81.   ]\n",
      " [  2.233  60.   ]\n",
      " [  4.533  82.   ]\n",
      " [  4.817  77.   ]\n",
      " [  4.333  76.   ]\n",
      " [  1.983  59.   ]\n",
      " [  4.633  80.   ]\n",
      " [  2.017  49.   ]\n",
      " [  5.1    96.   ]\n",
      " [  1.8    53.   ]\n",
      " [  5.033  77.   ]\n",
      " [  4.     77.   ]\n",
      " [  2.4    65.   ]\n",
      " [  4.6    81.   ]\n",
      " [  3.567  71.   ]\n",
      " [  4.     70.   ]\n",
      " [  4.5    81.   ]\n",
      " [  4.083  93.   ]\n",
      " [  1.8    53.   ]\n",
      " [  3.967  89.   ]\n",
      " [  2.2    45.   ]\n",
      " [  4.15   86.   ]\n",
      " [  2.     58.   ]\n",
      " [  3.833  78.   ]\n",
      " [  3.5    66.   ]\n",
      " [  4.583  76.   ]\n",
      " [  2.367  63.   ]\n",
      " [  5.     88.   ]\n",
      " [  1.933  52.   ]\n",
      " [  4.617  93.   ]\n",
      " [  1.917  49.   ]\n",
      " [  2.083  57.   ]\n",
      " [  4.583  77.   ]\n",
      " [  3.333  68.   ]\n",
      " [  4.167  81.   ]\n",
      " [  4.333  81.   ]\n",
      " [  4.5    73.   ]\n",
      " [  2.417  50.   ]\n",
      " [  4.     85.   ]\n",
      " [  4.167  74.   ]\n",
      " [  1.883  55.   ]\n",
      " [  4.583  77.   ]\n",
      " [  4.25   83.   ]\n",
      " [  3.767  83.   ]\n",
      " [  2.033  51.   ]\n",
      " [  4.433  78.   ]\n",
      " [  4.083  84.   ]\n",
      " [  1.833  46.   ]\n",
      " [  4.417  83.   ]\n",
      " [  2.183  55.   ]\n",
      " [  4.8    81.   ]\n",
      " [  1.833  57.   ]\n",
      " [  4.8    76.   ]\n",
      " [  4.1    84.   ]\n",
      " [  3.966  77.   ]\n",
      " [  4.233  81.   ]\n",
      " [  3.5    87.   ]\n",
      " [  4.366  77.   ]\n",
      " [  2.25   51.   ]\n",
      " [  4.667  78.   ]\n",
      " [  2.1    60.   ]\n",
      " [  4.35   82.   ]\n",
      " [  4.133  91.   ]\n",
      " [  1.867  53.   ]\n",
      " [  4.6    78.   ]\n",
      " [  1.783  46.   ]\n",
      " [  4.367  77.   ]\n",
      " [  3.85   84.   ]\n",
      " [  1.933  49.   ]\n",
      " [  4.5    83.   ]\n",
      " [  2.383  71.   ]\n",
      " [  4.7    80.   ]\n",
      " [  1.867  49.   ]\n",
      " [  3.833  75.   ]\n",
      " [  3.417  64.   ]\n",
      " [  4.233  76.   ]\n",
      " [  2.4    53.   ]\n",
      " [  4.8    94.   ]\n",
      " [  2.     55.   ]\n",
      " [  4.15   76.   ]\n",
      " [  1.867  50.   ]\n",
      " [  4.267  82.   ]\n",
      " [  1.75   54.   ]\n",
      " [  4.483  75.   ]\n",
      " [  4.     78.   ]\n",
      " [  4.117  79.   ]\n",
      " [  4.083  78.   ]\n",
      " [  4.267  78.   ]\n",
      " [  3.917  70.   ]\n",
      " [  4.55   79.   ]\n",
      " [  4.083  70.   ]\n",
      " [  2.417  54.   ]\n",
      " [  4.183  86.   ]\n",
      " [  2.217  50.   ]\n",
      " [  4.45   90.   ]\n",
      " [  1.883  54.   ]\n",
      " [  1.85   54.   ]\n",
      " [  4.283  77.   ]\n",
      " [  3.95   79.   ]\n",
      " [  2.333  64.   ]\n",
      " [  4.15   75.   ]\n",
      " [  2.35   47.   ]\n",
      " [  4.933  86.   ]\n",
      " [  2.9    63.   ]\n",
      " [  4.583  85.   ]\n",
      " [  3.833  82.   ]\n",
      " [  2.083  57.   ]\n",
      " [  4.367  82.   ]\n",
      " [  2.133  67.   ]\n",
      " [  4.35   74.   ]\n",
      " [  2.2    54.   ]\n",
      " [  4.45   83.   ]\n",
      " [  3.567  73.   ]\n",
      " [  4.5    73.   ]\n",
      " [  4.15   88.   ]\n",
      " [  3.817  80.   ]\n",
      " [  3.917  71.   ]\n",
      " [  4.45   83.   ]\n",
      " [  2.     56.   ]\n",
      " [  4.283  79.   ]\n",
      " [  4.767  78.   ]\n",
      " [  4.533  84.   ]\n",
      " [  1.85   58.   ]\n",
      " [  4.25   83.   ]\n",
      " [  1.983  43.   ]\n",
      " [  2.25   60.   ]\n",
      " [  4.75   75.   ]\n",
      " [  4.117  81.   ]\n",
      " [  2.15   46.   ]\n",
      " [  4.417  90.   ]\n",
      " [  1.817  46.   ]\n",
      " [  4.467  74.   ]]\n"
     ]
    },
    {
     "data": {
      "text/plain": [
       "KMeans(copy_x=True, init='k-means++', max_iter=300, n_clusters=4, n_init=10,\n",
       "    n_jobs=1, precompute_distances='auto', random_state=None, tol=0.0001,\n",
       "    verbose=0)"
      ]
     },
     "execution_count": 73,
     "metadata": {},
     "output_type": "execute_result"
    }
   ],
   "source": [
    "import kmeans\n",
    "X = kmeans.normalize(X)\n",
    "k_means = KMeans(n_clusters=4)\n",
    "k_means.fit(X)"
   ]
  },
  {
   "cell_type": "code",
   "execution_count": 59,
   "metadata": {
    "collapsed": false
   },
   "outputs": [
    {
     "data": {
      "text/plain": [
       "KMeans(copy_x=True, init='k-means++', max_iter=300, n_clusters=8, n_init=10,\n",
       "    n_jobs=1, precompute_distances='auto', random_state=None, tol=0.0001,\n",
       "    verbose=0)"
      ]
     },
     "execution_count": 59,
     "metadata": {},
     "output_type": "execute_result"
    }
   ],
   "source": [
    "k_means"
   ]
  },
  {
   "cell_type": "code",
   "execution_count": 74,
   "metadata": {
    "collapsed": true
   },
   "outputs": [],
   "source": [
    "Z = k_means.predict(X)\n",
    "# Z = Z.reshape(xx.shape)"
   ]
  },
  {
   "cell_type": "code",
   "execution_count": 66,
   "metadata": {
    "collapsed": true
   },
   "outputs": [],
   "source": [
    "%matplotlib inline\n",
    "\n",
    "import matplotlib\n",
    "import numpy as np\n",
    "import matplotlib.pyplot as plt"
   ]
  },
  {
   "cell_type": "code",
   "execution_count": 75,
   "metadata": {
    "collapsed": false,
    "scrolled": true
   },
   "outputs": [
    {
     "data": {
      "text/plain": [
       "array([3, 2, 3, 0, 1, 0, 1, 3, 2, 1, 2, 1, 3, 2, 1, 2, 0, 1, 2, 3, 2, 2, 3,\n",
       "       3, 3, 3, 2, 3, 3, 1, 3, 3, 3, 3, 3, 2, 2, 1, 0, 1, 1, 0, 1, 0, 3, 3,\n",
       "       3, 2, 1, 0, 1, 1, 2, 1, 2, 1, 3, 0, 1, 1, 0, 1, 2, 1, 0, 1, 3, 1, 0,\n",
       "       3, 1, 0, 1, 3, 0, 1, 0, 1, 3, 3, 3, 1, 3, 0, 3, 1, 3, 1, 2, 1, 0, 1,\n",
       "       2, 1, 0, 3, 1, 3, 2, 1, 0, 1, 2, 1, 3, 2, 1, 2, 1, 3, 1, 0, 1, 1, 0,\n",
       "       1, 2, 1, 0, 1, 2, 3, 3, 0, 1, 3, 2, 1, 2, 1, 2, 1, 0, 1, 2, 1, 2, 1,\n",
       "       2, 3, 1, 0, 1, 1, 3, 0, 1, 2, 1, 2, 1, 3, 0, 1, 3, 3, 1, 1, 2, 1, 2,\n",
       "       1, 0, 3, 3, 3, 0, 1, 2, 1, 2, 0, 1, 3, 1, 1, 3, 2, 1, 3, 2, 1, 1, 3,\n",
       "       2, 1, 1, 2, 1, 2, 1, 0, 1, 1, 3, 1, 1, 3, 2, 1, 0, 1, 1, 2, 1, 2, 3,\n",
       "       1, 2, 1, 0, 1, 2, 3, 3, 3, 2, 1, 2, 3, 2, 1, 2, 3, 3, 3, 3, 3, 3, 1,\n",
       "       3, 2, 1, 2, 1, 2, 2, 3, 3, 0, 3, 2, 1, 0, 1, 3, 0, 1, 0, 3, 2, 1, 3,\n",
       "       3, 1, 3, 3, 1, 0, 3, 1, 1, 0, 1, 2, 0, 1, 1, 2, 1, 2, 3])"
      ]
     },
     "execution_count": 75,
     "metadata": {},
     "output_type": "execute_result"
    }
   ],
   "source": [
    "Z"
   ]
  },
  {
   "cell_type": "code",
   "execution_count": 76,
   "metadata": {
    "collapsed": false
   },
   "outputs": [
    {
     "data": {
      "image/png": "[encoded data removed]",
      "text/plain": [
       "<matplotlib.figure.Figure at 0x4eb09f0>"
      ]
     },
     "metadata": {},
     "output_type": "display_data"
    }
   ],
   "source": [
    "ax = plt.gca()\n",
    "colors_list = ['r','g','b','y']\n",
    "colors = [colors_list[int(Z[i])] for i in range(272)]\n",
    "# colors = 'r'\n",
    "ax.scatter(X[:,0], X[:,1], c=colors,alpha=0.8)\n",
    "plt.show()"
   ]
  },
  {
   "cell_type": "code",
   "execution_count": 77,
   "metadata": {
    "collapsed": false
   },
   "outputs": [
    {
     "name": "stderr",
     "output_type": "stream",
     "text": [
      "2015-11-22 16:09:15,153 - __main__ - INFO -  in group 0, num of points (39, 2)\n",
      "INFO:__main__: in group 0, num of points (39, 2)\n",
      "2015-11-22 16:09:15,160 - __main__ - INFO -  in group 1, num of points (102, 2)\n",
      "INFO:__main__: in group 1, num of points (102, 2)\n",
      "2015-11-22 16:09:15,170 - __main__ - INFO -  in group 2, num of points (58, 2)\n",
      "INFO:__main__: in group 2, num of points (58, 2)\n",
      "2015-11-22 16:09:15,178 - __main__ - INFO -  in group 3, num of points (73, 2)\n",
      "INFO:__main__: in group 3, num of points (73, 2)\n"
     ]
    }
   ],
   "source": [
    "K = 4\n",
    "r = Z\n",
    "Mu = np.zeros((K, 2))\n",
    "for k in range(0, K):\n",
    "    # indexArray = r == k\n",
    "    xk = [X[idx,:] for idx in range(len(r)) if r[idx] == k] \n",
    "    # xk: Nk x D\n",
    "    logger.info(' in group %d, num of points %s', k, str(np.shape(xk)))\n",
    "    Mu[k,:] = np.mean(xk, 0)  # 0: cal mean along each column\n"
   ]
  },
  {
   "cell_type": "code",
   "execution_count": 78,
   "metadata": {
    "collapsed": false
   },
   "outputs": [],
   "source": [
    "N = 272\n",
    "Ln = [LA.norm(np.subtract(X[n, :], Mu[int(r[n]), :])) for n in range(0, N)]"
   ]
  },
  {
   "cell_type": "code",
   "execution_count": 79,
   "metadata": {
    "collapsed": false
   },
   "outputs": [
    {
     "data": {
      "text/plain": [
       "0.35124907541182904"
      ]
     },
     "execution_count": 79,
     "metadata": {},
     "output_type": "execute_result"
    }
   ],
   "source": [
    "np.mean(Ln)"
   ]
  },
  {
   "cell_type": "code",
   "execution_count": 84,
   "metadata": {
    "collapsed": true
   },
   "outputs": [],
   "source": [
    "\tpi_k = np.zeros((k,1))\n",
    "\tpi_k = [np.divide(len(np.where(r==kth)[0]), float(N)) for kth in range(k) ]"
   ]
  },
  {
   "cell_type": "code",
   "execution_count": 85,
   "metadata": {
    "collapsed": false
   },
   "outputs": [
    {
     "data": {
      "text/plain": [
       "[0.14338235294117646, 0.375, 0.21323529411764705, 0.26838235294117646]"
      ]
     },
     "execution_count": 85,
     "metadata": {},
     "output_type": "execute_result"
    }
   ],
   "source": [
    "pi_k"
   ]
  },
  {
   "cell_type": "code",
   "execution_count": 83,
   "metadata": {
    "collapsed": false
   },
   "outputs": [],
   "source": [
    "k = 4"
   ]
  },
  {
   "cell_type": "code",
   "execution_count": 237,
   "metadata": {
    "collapsed": false
   },
   "outputs": [
    {
     "name": "stdout",
     "output_type": "stream",
     "text": [
      "[[ 0.  0.  0.  0.]\n",
      " [ 0.  0.  0.  2.]\n",
      " [ 0.  0.  0.  0.]\n",
      " ..., \n",
      " [ 0.  0.  0.  0.]\n",
      " [ 0.  0.  0.  0.]\n",
      " [ 0.  0.  0.  0.]]\n"
     ]
    }
   ],
   "source": [
    "p = np.zeros((N,k))\n",
    "p[1][3] = 2\n",
    "print p"
   ]
  },
  {
   "cell_type": "code",
   "execution_count": null,
   "metadata": {
    "collapsed": false,
    "scrolled": false
   },
   "outputs": [],
   "source": [
    "\"\"\" E STEP\n",
    "\"\"\"\n",
    "member_k = [X[r==kth,:] for kth in range(k)]\n",
    "# list of length k, each element if the array of the member in that group\n",
    "\n",
    "info = [len(member_k[i]) for i in range(k)]\n",
    "# print info\n",
    "# logger.info('members:',str(info))\n",
    "\n",
    "(N, D) = np.shape(X)\n",
    "\n",
    "# for ith group\n",
    "# mean_k = np.mean(member_k[i],0)\n",
    "\n",
    "# print 'members #',len(member_k[i])\n",
    "\n",
    "\"\"\"\n",
    "diff = [np.subtract(mean_k, member_ki[n]) for n in range(len(member_k[i]))]\n",
    "prod = np.multiply(member_ki[:,1],member_ki[:,0])\n",
    "conv = np.sum(prod)\n",
    "conv = np.divide(conv, N)\n",
    "\"\"\"\n",
    "D = 2\n",
    "guans = k*[[0]]\n",
    "cova_list = k*[0]\n",
    "mean_k_list = k*[0]\n",
    "for idx_k in range(k):\n",
    "#    print idx_k\n",
    "    mean_k = np.mean(member_k[idx_k],0) # mean vector of group idx_k , D*1\n",
    "    mean_k_list[idx_k] = mean_k\n",
    "    member_ki = member_k[idx_k] # all the member in idx_k th group\n",
    "    # print 'members #',len(member_k[i])\n",
    "    \n",
    "    # now D*N_k\n",
    "    cova = np.cov(np.transpose(member_ki)) \n",
    "    cova_list[idx_k] = cova\n",
    "    # convalence matrix, D*D\n",
    "    # logger.info('dimen check cov' if (np.shape(conva)==(D,D)).all else logger.error('dimen check fail'))\n",
    "    guans_append = [guassan_distribute(cova, mean_k, member_ki[j], 2) for j in range(len(member_ki))]\n",
    "    # print type(guans_append)\n",
    "    guans[idx_k] = guans_append # len[4] list, sublist is len[Nk] ie guans[k][n]\n",
    "    \n",
    "    # np.array(guans_append)\n",
    "    # print len(guans)\n",
    "p = np.zeros((k, N))\n",
    "print np.shape(p)\n",
    "for n in range(N):\n",
    "    # print N\n",
    "    pi_N = [pi_k[kk] * guassan_distribute(cova_list[kk], mean_k_list[kk], X[n,:], D) for kk in range(k)]\n",
    "    deno = np.sum(pi_N)\n",
    "    \n",
    "    for idx_k in range(k):\n",
    "        # print n,idx_k\n",
    "        # p[n][idx_k]\n",
    "        # p[n][idx_k] = (pi_k[r[n]] * guassan_distribute(cova_list[r[n]], mean_k_list[r[n]], X[n,:], D)) / deno\n",
    "        p[idx_k][n] = (pi_k[idx_k] * guassan_distribute(cova_list[idx_k], mean_k_list[idx_k], X[n,:], D)) / deno"
   ]
  },
  {
   "cell_type": "code",
   "execution_count": 305,
   "metadata": {
    "collapsed": false
   },
   "outputs": [
    {
     "name": "stdout",
     "output_type": "stream",
     "text": [
      "(2,)\n",
      "(2,)\n",
      "(2,)\n",
      "(2,)\n"
     ]
    }
   ],
   "source": [
    "\"\"\" M STEP\n",
    "\"\"\"\n",
    "mu_old = mean_k_list\n",
    "mu_new = np.zeros((k,D))\n",
    "cova_new = k*[0]\n",
    "pi_k_new = np.zeros((k,1))\n",
    "N_k = [np.sum(p[idx_k]) for idx_k in range(k)]\n",
    "\n",
    "# update mu\n",
    "for idx_k in range(k):\n",
    "    nomi = [p[idx_k][n]*X[n,:] for n in range(N)]\n",
    "    nomi = np.sum(nomi, 0) # DX1\n",
    "    deno = N_k[idx_k] # 1X1\n",
    "    mu_new[idx_k] = np.divide(nomi,deno)\n",
    "    # print np.shape(mu_new[idx_k])\n",
    "    \n",
    "# update conv\n",
    "for idx_k in range(k):\n",
    "    deno = N_k[idx_k] \n",
    "    nomi = [ p[idx_k][n]* np.transpose(np.matrix((X[n,:] - mu_old[idx_k]))) * \n",
    "            np.matrix((X[n,:] - mu_old[idx_k])) for n in range(N)] # member in n th group\n",
    "    nomi2 = np.sum(nomi,0) # sum vectors in col dimension\n",
    "    cova_new[idx_k] = np.divide(np.matrix(nomi2),deno)\n",
    "    \n",
    "for idx_k in range(k):\n",
    "    pi_k_new[idx_k] = (1/N) * np.sum(p[idx_k])\n",
    "    \n",
    "return mu_new, cova_new, pi_k_new"
   ]
  },
  {
   "cell_type": "code",
   "execution_count": 308,
   "metadata": {
    "collapsed": false
   },
   "outputs": [
    {
     "ename": "AttributeError",
     "evalue": "'module' object has no attribute 'ln'",
     "output_type": "error",
     "traceback": [
      "\u001b[1;31m---------------------------------------------------------------------------\u001b[0m",
      "\u001b[1;31mAttributeError\u001b[0m                            Traceback (most recent call last)",
      "\u001b[1;32m<ipython-input-308-43ff0d4ae9da>\u001b[0m in \u001b[0;36m<module>\u001b[1;34m()\u001b[0m\n\u001b[0;32m      1\u001b[0m np.shape(r\n\u001b[0;32m      2\u001b[0m     )\n\u001b[1;32m----> 3\u001b[1;33m \u001b[0mnp\u001b[0m\u001b[1;33m.\u001b[0m\u001b[0mln\u001b[0m\u001b[1;33m(\u001b[0m\u001b[0mmath\u001b[0m\u001b[1;33m.\u001b[0m\u001b[0mexp\u001b[0m\u001b[1;33m(\u001b[0m\u001b[1;36m1\u001b[0m\u001b[1;33m)\u001b[0m\u001b[1;33m)\u001b[0m\u001b[1;33m\u001b[0m\u001b[0m\n\u001b[0m",
      "\u001b[1;31mAttributeError\u001b[0m: 'module' object has no attribute 'ln'"
     ]
    }
   ],
   "source": [
    "np.shape(r\n",
    "    )\n",
    "np.ln(math.exp(1))"
   ]
  },
  {
   "cell_type": "code",
   "execution_count": 215,
   "metadata": {
    "collapsed": true
   },
   "outputs": [],
   "source": [
    "\n",
    "import math\n",
    "\n",
    "def guassan_distribute(cova, mu, xn, d):\n",
    "    # d = 2\n",
    "    # s(np.matrix(xn-mu))\n",
    "    denomi = math.pow(2*math.pi,2*d) * math.pow(np.linalg.det(cova), 0.5)\n",
    "    # print denomi\n",
    "    out = (1.0/ denomi)* math.exp(-0.5*np.matrix(xn-mu)*np.matrix(cova)*np.transpose(np.matrix(xn-mu)))\n",
    "    return out"
   ]
  },
  {
   "cell_type": "code",
   "execution_count": 205,
   "metadata": {
    "collapsed": false
   },
   "outputs": [
    {
     "name": "stdout",
     "output_type": "stream",
     "text": [
      "-1.17148899502\n",
      "(39, 2)\n",
      "(2,)\n",
      "(2,)\n",
      "(1, 2)\n"
     ]
    },
    {
     "ename": "ZeroDivisionError",
     "evalue": "float division by zero",
     "output_type": "error",
     "traceback": [
      "\u001b[1;31m---------------------------------------------------------------------------\u001b[0m",
      "\u001b[1;31mZeroDivisionError\u001b[0m                         Traceback (most recent call last)",
      "\u001b[1;32m<ipython-input-205-ac90ebc6b83e>\u001b[0m in \u001b[0;36m<module>\u001b[1;34m()\u001b[0m\n\u001b[0;32m     11\u001b[0m \u001b[0ms\u001b[0m\u001b[1;33m(\u001b[0m\u001b[0mnp\u001b[0m\u001b[1;33m.\u001b[0m\u001b[0mmatrix\u001b[0m\u001b[1;33m(\u001b[0m\u001b[0mxn\u001b[0m\u001b[1;33m-\u001b[0m\u001b[0mmu\u001b[0m\u001b[1;33m)\u001b[0m\u001b[1;33m)\u001b[0m\u001b[1;33m\u001b[0m\u001b[0m\n\u001b[0;32m     12\u001b[0m \u001b[0mdenomi\u001b[0m \u001b[1;33m=\u001b[0m \u001b[0mmath\u001b[0m\u001b[1;33m.\u001b[0m\u001b[0mpow\u001b[0m\u001b[1;33m(\u001b[0m\u001b[1;36m2\u001b[0m\u001b[1;33m*\u001b[0m\u001b[0mmath\u001b[0m\u001b[1;33m.\u001b[0m\u001b[0mpi\u001b[0m\u001b[1;33m,\u001b[0m\u001b[1;36m2\u001b[0m\u001b[1;33m*\u001b[0m\u001b[0md\u001b[0m\u001b[1;33m)\u001b[0m \u001b[1;33m*\u001b[0m \u001b[0mmath\u001b[0m\u001b[1;33m.\u001b[0m\u001b[0mpow\u001b[0m\u001b[1;33m(\u001b[0m\u001b[0mnp\u001b[0m\u001b[1;33m.\u001b[0m\u001b[0mlinalg\u001b[0m\u001b[1;33m.\u001b[0m\u001b[0mdet\u001b[0m\u001b[1;33m(\u001b[0m\u001b[0mcova\u001b[0m\u001b[1;33m)\u001b[0m\u001b[1;33m,\u001b[0m \u001b[1;36m0.5\u001b[0m\u001b[1;33m)\u001b[0m\u001b[1;33m\u001b[0m\u001b[0m\n\u001b[1;32m---> 13\u001b[1;33m \u001b[0mout\u001b[0m \u001b[1;33m=\u001b[0m \u001b[1;33m(\u001b[0m\u001b[1;36m1.0\u001b[0m\u001b[1;33m/\u001b[0m \u001b[0mdenomi\u001b[0m\u001b[1;33m)\u001b[0m\u001b[1;33m*\u001b[0m \u001b[0mmath\u001b[0m\u001b[1;33m.\u001b[0m\u001b[0mexp\u001b[0m\u001b[1;33m(\u001b[0m\u001b[1;33m-\u001b[0m\u001b[1;36m0.5\u001b[0m\u001b[1;33m*\u001b[0m\u001b[0mnp\u001b[0m\u001b[1;33m.\u001b[0m\u001b[0mmatrix\u001b[0m\u001b[1;33m(\u001b[0m\u001b[0mxn\u001b[0m\u001b[1;33m-\u001b[0m\u001b[0mmu\u001b[0m\u001b[1;33m)\u001b[0m\u001b[1;33m*\u001b[0m\u001b[0mnp\u001b[0m\u001b[1;33m.\u001b[0m\u001b[0mmatrix\u001b[0m\u001b[1;33m(\u001b[0m\u001b[0mcova\u001b[0m\u001b[1;33m)\u001b[0m\u001b[1;33m*\u001b[0m\u001b[0mnp\u001b[0m\u001b[1;33m.\u001b[0m\u001b[0mtranspose\u001b[0m\u001b[1;33m(\u001b[0m\u001b[0mnp\u001b[0m\u001b[1;33m.\u001b[0m\u001b[0mmatrix\u001b[0m\u001b[1;33m(\u001b[0m\u001b[0mxn\u001b[0m\u001b[1;33m-\u001b[0m\u001b[0mmu\u001b[0m\u001b[1;33m)\u001b[0m\u001b[1;33m)\u001b[0m\u001b[1;33m)\u001b[0m\u001b[1;33m\u001b[0m\u001b[0m\n\u001b[0m",
      "\u001b[1;31mZeroDivisionError\u001b[0m: float division by zero"
     ]
    }
   ],
   "source": [
    "\n",
    "np.shape(cova)\n",
    "xn = member_ki[0]\n",
    "mu = mean_k\n",
    "d = 2\n",
    "print member_ki[1][1]\n",
    "s(member_ki)\n",
    "s(xn)\n",
    "s(mu)\n",
    "np.shape(xn-mu)\n",
    "s(np.matrix(xn-mu))\n",
    "denomi = math.pow(2*math.pi,2*d) * math.pow(np.linalg.det(cova), 0.5)\n",
    "out = (1.0/ denomi)* math.exp(-0.5*np.matrix(xn-mu)*np.matrix(cova)*np.transpose(np.matrix(xn-mu)))\n"
   ]
  },
  {
   "cell_type": "code",
   "execution_count": 180,
   "metadata": {
    "collapsed": true
   },
   "outputs": [],
   "source": [
    "def s(a):\n",
    "    print np.shape(a)"
   ]
  },
  {
   "cell_type": "code",
   "execution_count": 178,
   "metadata": {
    "collapsed": false
   },
   "outputs": [
    {
     "data": {
      "text/plain": [
       "0.007388049906547692"
      ]
     },
     "execution_count": 178,
     "metadata": {},
     "output_type": "execute_result"
    }
   ],
   "source": []
  },
  {
   "cell_type": "code",
   "execution_count": 130,
   "metadata": {
    "collapsed": false
   },
   "outputs": [
    {
     "data": {
      "text/plain": [
       "0.30143363246040428"
      ]
     },
     "execution_count": 130,
     "metadata": {},
     "output_type": "execute_result"
    }
   ],
   "source": [
    "conv"
   ]
  },
  {
   "cell_type": "code",
   "execution_count": 154,
   "metadata": {
    "collapsed": false
   },
   "outputs": [
    {
     "data": {
      "text/plain": [
       "array([ 0.16840832,  0.34750922])"
      ]
     },
     "execution_count": 154,
     "metadata": {},
     "output_type": "execute_result"
    }
   ],
   "source": [
    "(xn-mu)"
   ]
  },
  {
   "cell_type": "code",
   "execution_count": 155,
   "metadata": {
    "collapsed": false
   },
   "outputs": [
    {
     "data": {
      "text/plain": [
       "array([ 0.16840832,  0.34750922])"
      ]
     },
     "execution_count": 155,
     "metadata": {},
     "output_type": "execute_result"
    }
   ],
   "source": [
    "np.transpose(xn-mu)"
   ]
  },
  {
   "cell_type": "code",
   "execution_count": 161,
   "metadata": {
    "collapsed": false
   },
   "outputs": [
    {
     "ename": "TypeError",
     "evalue": "only length-1 arrays can be converted to Python scalars",
     "output_type": "error",
     "traceback": [
      "\u001b[1;31m---------------------------------------------------------------------------\u001b[0m",
      "\u001b[1;31mTypeError\u001b[0m                                 Traceback (most recent call last)",
      "\u001b[1;32m<ipython-input-161-528dcdce3308>\u001b[0m in \u001b[0;36m<module>\u001b[1;34m()\u001b[0m\n\u001b[1;32m----> 1\u001b[1;33m \u001b[0mmath\u001b[0m\u001b[1;33m.\u001b[0m\u001b[0mexp\u001b[0m\u001b[1;33m(\u001b[0m\u001b[1;33m-\u001b[0m\u001b[1;36m0.5\u001b[0m\u001b[1;33m*\u001b[0m\u001b[0mnp\u001b[0m\u001b[1;33m.\u001b[0m\u001b[0mtranspose\u001b[0m\u001b[1;33m(\u001b[0m\u001b[0mxn\u001b[0m\u001b[1;33m-\u001b[0m\u001b[0mmu\u001b[0m\u001b[1;33m)\u001b[0m\u001b[1;33m*\u001b[0m\u001b[0mcova\u001b[0m\u001b[1;33m*\u001b[0m\u001b[1;33m(\u001b[0m\u001b[0mxn\u001b[0m\u001b[1;33m-\u001b[0m\u001b[0mmu\u001b[0m\u001b[1;33m)\u001b[0m\u001b[1;33m)\u001b[0m\u001b[1;33m\u001b[0m\u001b[0m\n\u001b[0m",
      "\u001b[1;31mTypeError\u001b[0m: only length-1 arrays can be converted to Python scalars"
     ]
    }
   ],
   "source": [
    "math.exp(-0.5*np.transpose(xn-mu)*cova*(xn-mu))"
   ]
  },
  {
   "cell_type": "code",
   "execution_count": 169,
   "metadata": {
    "collapsed": false
   },
   "outputs": [
    {
     "data": {
      "text/plain": [
       "matrix([[ 0.16840832],\n",
       "        [ 0.34750922]])"
      ]
     },
     "execution_count": 169,
     "metadata": {},
     "output_type": "execute_result"
    }
   ],
   "source": [
    "np.transpose(np.matrix(xn-mu))"
   ]
  },
  {
   "cell_type": "code",
   "execution_count": 170,
   "metadata": {
    "collapsed": false
   },
   "outputs": [
    {
     "data": {
      "text/plain": [
       "matrix([[ 0.01397705]])"
      ]
     },
     "execution_count": 170,
     "metadata": {},
     "output_type": "execute_result"
    }
   ],
   "source": [
    "np.matrix(xn-mu)*np.matrix(cova)*np.transpose(np.matrix(xn-mu))"
   ]
  },
  {
   "cell_type": "code",
   "execution_count": 171,
   "metadata": {
    "collapsed": false
   },
   "outputs": [
    {
     "data": {
      "text/plain": [
       "array([[ 0.06729471, -0.0138743 ],\n",
       "       [-0.0138743 ,  0.11338291]])"
      ]
     },
     "execution_count": 171,
     "metadata": {},
     "output_type": "execute_result"
    }
   ],
   "source": [
    "cova"
   ]
  },
  {
   "cell_type": "code",
   "execution_count": 172,
   "metadata": {
    "collapsed": false
   },
   "outputs": [
    {
     "data": {
      "text/plain": [
       "matrix([[ 0.06729471, -0.0138743 ],\n",
       "        [-0.0138743 ,  0.11338291]])"
      ]
     },
     "execution_count": 172,
     "metadata": {},
     "output_type": "execute_result"
    }
   ],
   "source": [
    "np.matrix(cova)"
   ]
  },
  {
   "cell_type": "code",
   "execution_count": 175,
   "metadata": {
    "collapsed": false
   },
   "outputs": [
    {
     "data": {
      "text/plain": [
       "array([[1, 2],\n",
       "       [3, 4]])"
      ]
     },
     "execution_count": 175,
     "metadata": {},
     "output_type": "execute_result"
    }
   ],
   "source": [
    "a = np.array([[1,2],[3,4]])\n",
    "a"
   ]
  },
  {
   "cell_type": "code",
   "execution_count": 176,
   "metadata": {
    "collapsed": false
   },
   "outputs": [
    {
     "data": {
      "text/plain": [
       "matrix([[1, 2],\n",
       "        [3, 4]])"
      ]
     },
     "execution_count": 176,
     "metadata": {},
     "output_type": "execute_result"
    }
   ],
   "source": [
    "np.matrix(a)"
   ]
  },
  {
   "cell_type": "code",
   "execution_count": null,
   "metadata": {
    "collapsed": true
   },
   "outputs": [],
   "source": []
  }
 ],
 "metadata": {
  "kernelspec": {
   "display_name": "Python 2",
   "language": "python",
   "name": "python2"
  },
  "language_info": {
   "codemirror_mode": {
    "name": "ipython",
    "version": 2
   },
   "file_extension": ".py",
   "mimetype": "text/x-python",
   "name": "python",
   "nbconvert_exporter": "python",
   "pygments_lexer": "ipython2",
   "version": "2.7.3"
  }
 },
 "nbformat": 4,
 "nbformat_minor": 0
}
